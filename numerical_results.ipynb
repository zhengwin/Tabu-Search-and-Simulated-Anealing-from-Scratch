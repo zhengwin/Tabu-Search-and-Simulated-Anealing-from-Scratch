{
 "cells": [
  {
   "cell_type": "code",
   "execution_count": 1,
   "metadata": {},
   "outputs": [],
   "source": [
    "from tabu_search import TabuSearch\n",
    "from SA import SimulatedAnnealing\n",
    "from data import FLOW, DISTANCE, TSP_17, TSP_48\n",
    "import matplotlib.pyplot as plt\n",
    "import numpy as np"
   ]
  },
  {
   "cell_type": "markdown",
   "metadata": {},
   "source": [
    "Solving QAP"
   ]
  },
  {
   "cell_type": "code",
   "execution_count": 2,
   "metadata": {},
   "outputs": [
    {
     "name": "stdout",
     "output_type": "stream",
     "text": [
      "[([2, 4, 5, 3, 1], 314), ([2, 4, 5, 1, 3], 404), ([3, 4, 5, 2, 1], 314), ([3, 2, 5, 4, 1], 336), ([3, 1, 4, 5, 2], 336), ([2, 4, 5, 3, 1], 314), ([3, 1, 4, 5, 2], 336), ([4, 2, 5, 3, 1], 342), ([3, 1, 5, 2, 4], 330), ([4, 2, 5, 3, 1], 342)]\n"
     ]
    }
   ],
   "source": [
    "ts_qap = TabuSearch(\n",
    "    num_items = 5,\n",
    "    data = {\"flow\": FLOW, \"distance\": DISTANCE}, \n",
    "    objective_function=\"QAP\",\n",
    ")\n",
    "\n",
    "qap_solns = []\n",
    "for _ in range(10):\n",
    "    soln, cost, costs = ts_qap.solve()\n",
    "    qap_solns.append((soln, cost))\n",
    "\n",
    "print(qap_solns)"
   ]
  },
  {
   "cell_type": "markdown",
   "metadata": {},
   "source": [
    "Travelling Salesman Problem - 17 Cities"
   ]
  },
  {
   "cell_type": "code",
   "execution_count": 3,
   "metadata": {},
   "outputs": [
    {
     "name": "stdout",
     "output_type": "stream",
     "text": [
      "[([5, 2, 10, 9, 12, 16, 1, 4, 13, 7, 8, 6, 17, 14, 15, 3, 11], 2149), ([1, 7, 8, 6, 3, 11, 5, 2, 10, 15, 14, 17, 13, 4, 9, 12, 16], 2090), ([2, 10, 6, 9, 12, 16, 1, 4, 13, 7, 17, 8, 14, 3, 15, 11, 5], 2304), ([15, 14, 17, 13, 4, 9, 12, 16, 1, 7, 8, 6, 3, 11, 5, 2, 10], 2090), ([10, 11, 6, 7, 8, 17, 4, 9, 12, 16, 1, 13, 14, 15, 3, 5, 2], 2257), ([6, 9, 12, 16, 1, 4, 13, 7, 17, 8, 14, 3, 15, 11, 5, 2, 10], 2304), ([13, 1, 16, 12, 9, 5, 2, 10, 11, 3, 15, 14, 6, 8, 17, 7, 4], 2104), ([9, 4, 13, 17, 14, 3, 10, 2, 5, 11, 15, 6, 8, 7, 1, 16, 12], 2170), ([17, 3, 11, 5, 2, 10, 15, 14, 8, 1, 16, 12, 9, 4, 13, 6, 7], 2243), ([10, 2, 5, 9, 12, 16, 1, 17, 7, 4, 13, 8, 6, 14, 15, 3, 11], 2187)]\n"
     ]
    }
   ],
   "source": [
    "ts = TabuSearch(\n",
    "    num_items = 17,\n",
    "    data = TSP_17,\n",
    "    objective_function=\"TSP\",\n",
    "    timer = None,\n",
    "    bias_factor=2,\n",
    "    max_iterations=1000,\n",
    "    print_logs = False\n",
    ")\n",
    "\n",
    "tsp_solns = []\n",
    "for _ in range(10):\n",
    "    soln, cost, costs = ts.solve()\n",
    "    tsp_solns.append((soln, cost))\n",
    "\n",
    "print(tsp_solns)"
   ]
  },
  {
   "cell_type": "code",
   "execution_count": 4,
   "metadata": {},
   "outputs": [
    {
     "name": "stdout",
     "output_type": "stream",
     "text": [
      "[([12, 9, 5, 2, 10, 11, 3, 15, 14, 6, 8, 7, 17, 13, 4, 1, 16], 2096), ([4, 1, 16, 12, 9, 5, 2, 10, 11, 3, 15, 14, 6, 8, 17, 7, 13], 2095), ([15, 10, 2, 5, 11, 3, 6, 17, 8, 7, 1, 16, 12, 9, 4, 13, 14], 2121), ([13, 4, 9, 12, 16, 1, 7, 8, 6, 3, 11, 5, 2, 10, 15, 14, 17], 2090), ([14, 17, 1, 16, 12, 9, 4, 13, 7, 8, 6, 10, 2, 5, 11, 3, 15], 2184), ([6, 13, 4, 9, 12, 16, 1, 7, 8, 17, 14, 15, 3, 11, 10, 2, 5], 2181), ([17, 8, 6, 14, 15, 3, 5, 2, 10, 11, 9, 12, 16, 4, 13, 1, 7], 2171), ([17, 14, 15, 3, 11, 10, 2, 5, 9, 12, 16, 1, 4, 13, 7, 8, 6], 2085), ([1, 16, 12, 9, 4, 6, 3, 11, 5, 2, 10, 15, 14, 17, 8, 7, 13], 2167), ([11, 3, 6, 8, 9, 12, 16, 1, 4, 13, 7, 17, 14, 15, 10, 2, 5], 2167)]\n"
     ]
    }
   ],
   "source": [
    "sa = SimulatedAnnealing(\n",
    "    num_items = 17,\n",
    "    objective_function = \"tsp\",\n",
    "    data = TSP_17,\n",
    "    temp_iter = 30, temp = 100,\n",
    "    t_stop = 0,\n",
    "    print_logs = False,\n",
    "    timer=None\n",
    ")\n",
    "\n",
    "tsp_sa_solns = []\n",
    "for _ in range(10):\n",
    "    soln, cost, costs = sa.solve()\n",
    "    tsp_sa_solns.append((soln, cost))\n",
    "    \n",
    "\n",
    "print(tsp_sa_solns)"
   ]
  },
  {
   "cell_type": "markdown",
   "metadata": {},
   "source": [
    "Comparative Analysis by plotting Cost vs Number of solutions evaluated"
   ]
  },
  {
   "cell_type": "code",
   "execution_count": 5,
   "metadata": {},
   "outputs": [],
   "source": [
    "sa2 = SimulatedAnnealing(\n",
    "    num_items = 48,\n",
    "    objective_function = \"tsp\",\n",
    "    data = TSP_48,\n",
    "    temp_iter = 50, temp = 1000,\n",
    "    t_stop = 0,\n",
    "    timer=None,\n",
    "    print_logs = False,\n",
    ")\n",
    "sa2_soln, sa2_cost, sa2_costs = sa2.solve(initial_soln=list(range(1, 49)))\n"
   ]
  },
  {
   "cell_type": "code",
   "execution_count": 6,
   "metadata": {},
   "outputs": [],
   "source": [
    "ts2 = TabuSearch(\n",
    "    num_items = 48,\n",
    "    data = TSP_48,\n",
    "    objective_function=\"TSP\",\n",
    "    max_iterations=1000,\n",
    "    timer=None,\n",
    "    print_logs = False\n",
    ")\n",
    "ts2_soln, ts2_cost, ts2_costs = ts2.solve(initial_soln=list(range(1, 49)))"
   ]
  },
  {
   "cell_type": "code",
   "execution_count": 7,
   "metadata": {},
   "outputs": [
    {
     "name": "stdout",
     "output_type": "stream",
     "text": [
      "714\n"
     ]
    },
    {
     "data": {
      "image/png": "[encoded data removed]",
      "text/plain": [
       "<Figure size 432x288 with 1 Axes>"
      ]
     },
     "metadata": {
      "needs_background": "light"
     },
     "output_type": "display_data"
    }
   ],
   "source": [
    "n = min(len(sa2_costs), len(ts2_costs))\n",
    "\n",
    "x = np.arange(start=0, stop=100 * n, step=100)\n",
    "y_sa = np.array(sa2_costs)\n",
    "\n",
    "y_ts = np.array(ts2_costs[:n])\n",
    "print(len(y_ts))\n",
    "\n",
    "fig = plt.figure()\n",
    "ax = fig.add_subplot(111)\n",
    "\n",
    "ax.plot(x, y_sa, color='blue', label='SA')\n",
    "ax.plot(x, y_ts, color='green', label='TS')\n",
    "\n",
    "plt.legend()\n",
    "plt.xlabel(\"Number of Solutions Considered\")\n",
    "plt.ylabel(\"Cost\")\n",
    "plt.title(\"Cost vs Solutions Considered\")\n",
    "\n",
    "plt.show()"
   ]
  },
  {
   "cell_type": "markdown",
   "metadata": {},
   "source": [
    "Comparative Analysis by comparing Cost vs Time Threshold"
   ]
  },
  {
   "cell_type": "markdown",
   "metadata": {},
   "source": [
    "Get times for TS"
   ]
  },
  {
   "cell_type": "code",
   "execution_count": 8,
   "metadata": {},
   "outputs": [
    {
     "name": "stdout",
     "output_type": "stream",
     "text": [
      "Timer Length: 0.1\n",
      "Actual time elapsed: 0.0\n",
      "Timer Length: 0.2\n",
      "Actual time elapsed: 0.0\n",
      "Timer Length: 0.30000000000000004\n",
      "Actual time elapsed: 0.0\n",
      "Timer Length: 0.4\n",
      "Actual time elapsed: 0.0\n",
      "Timer Length: 0.5\n",
      "Actual time elapsed: 0.0\n",
      "Timer Length: 0.6\n",
      "Actual time elapsed: 0.0\n",
      "Timer Length: 0.7000000000000001\n",
      "Actual time elapsed: 0.0\n",
      "Timer Length: 0.8\n",
      "Actual time elapsed: 0.0\n",
      "Timer Length: 0.9\n",
      "Actual time elapsed: 0.0\n",
      "Timer Length: 1.0\n",
      "Actual time elapsed: 0.0\n",
      "Timer Length: 1.1\n",
      "Actual time elapsed: 0.0\n",
      "Timer Length: 1.2000000000000002\n",
      "Actual time elapsed: 0.0\n",
      "Timer Length: 1.3000000000000003\n",
      "Actual time elapsed: 0.0\n"
     ]
    }
   ],
   "source": [
    "ts_times = []\n",
    "for t in np.arange(start=0.1, stop=1.4, step=0.1):\n",
    "    ts_time = TabuSearch(\n",
    "        num_items = 48,\n",
    "        data = TSP_48,\n",
    "        objective_function=\"TSP\",\n",
    "        max_iterations=1000,\n",
    "        timer=t,\n",
    "        print_logs = False\n",
    "    )\n",
    "    soln, cost = ts_time.solve(initial_soln=list(range(1, 49)))\n",
    "    ts_times.append(cost)"
   ]
  },
  {
   "cell_type": "markdown",
   "metadata": {},
   "source": [
    "Get times for SA"
   ]
  },
  {
   "cell_type": "code",
   "execution_count": 9,
   "metadata": {},
   "outputs": [
    {
     "name": "stdout",
     "output_type": "stream",
     "text": [
      "Timer Length: 0.1\n",
      "Actual time elapsed: 0.0\n",
      "Timer Length: 0.2\n",
      "Actual time elapsed: 0.0\n",
      "Timer Length: 0.30000000000000004\n",
      "Actual time elapsed: 0.0\n",
      "Timer Length: 0.4\n",
      "Actual time elapsed: 0.0\n",
      "Timer Length: 0.5\n",
      "Actual time elapsed: 0.0\n",
      "Timer Length: 0.6\n",
      "Actual time elapsed: 0.0\n",
      "Timer Length: 0.7000000000000001\n",
      "Actual time elapsed: 0.0\n",
      "Timer Length: 0.8\n",
      "Actual time elapsed: 0.0\n",
      "Timer Length: 0.9\n",
      "Actual time elapsed: 0.0\n",
      "Timer Length: 1.0\n",
      "Actual time elapsed: 0.0\n",
      "Timer Length: 1.1\n",
      "Actual time elapsed: 0.0\n",
      "Timer Length: 1.2000000000000002\n",
      "Actual time elapsed: 0.0\n",
      "Timer Length: 1.3000000000000003\n",
      "Actual time elapsed: 0.0\n"
     ]
    },
    {
     "data": {
      "text/plain": [
       "[74545,\n",
       " 72618,\n",
       " 57792,\n",
       " 60742,\n",
       " 59678,\n",
       " 50078,\n",
       " 48858,\n",
       " 51287,\n",
       " 45825,\n",
       " 47937,\n",
       " 41888,\n",
       " 39612,\n",
       " 36379]"
      ]
     },
     "execution_count": 9,
     "metadata": {},
     "output_type": "execute_result"
    }
   ],
   "source": [
    "sa_times = []\n",
    "for t in np.arange(start=0.1, stop=1.4, step=0.1):\n",
    "    sa_time =  SimulatedAnnealing(\n",
    "        num_items = 48,\n",
    "        objective_function = \"tsp\",\n",
    "        data = TSP_48,\n",
    "        temp_iter = 50, temp = 1000,\n",
    "        t_stop = 0,\n",
    "        timer=t,\n",
    "        print_logs = False,\n",
    "    )\n",
    "    soln, cost = sa_time.solve(initial_soln=list(range(1, 49)))\n",
    "    sa_times.append(cost)\n",
    "sa_times"
   ]
  },
  {
   "cell_type": "code",
   "execution_count": 10,
   "metadata": {},
   "outputs": [
    {
     "name": "stdout",
     "output_type": "stream",
     "text": [
      "13\n"
     ]
    },
    {
     "data": {
      "image/png": "[encoded data removed]",
      "text/plain": [
       "<Figure size 432x288 with 1 Axes>"
      ]
     },
     "metadata": {
      "needs_background": "light"
     },
     "output_type": "display_data"
    }
   ],
   "source": [
    "x = np.arange(start=0.1, stop=1.4, step=0.1)\n",
    "y_sa = np.array(sa_times)\n",
    "\n",
    "y_ts = np.array(ts_times)\n",
    "print(len(y_ts))\n",
    "\n",
    "fig = plt.figure()\n",
    "ax = fig.add_subplot(111)\n",
    "\n",
    "ax.plot(x, y_sa, color='blue', label='SA')\n",
    "ax.plot(x, y_ts, color='green', label='TS')\n",
    "\n",
    "plt.legend()\n",
    "plt.xlabel(\"Time Threshold\")\n",
    "plt.ylabel(\"Cost\")\n",
    "plt.title(\"Cost vs Time Threshold\")\n",
    "\n",
    "plt.show()"
   ]
  },
  {
   "cell_type": "markdown",
   "metadata": {},
   "source": [
    "Run both TS and SA from 25 random initial points and record the final costs"
   ]
  },
  {
   "cell_type": "code",
   "execution_count": 11,
   "metadata": {},
   "outputs": [],
   "source": [
    "ts48 = TabuSearch(\n",
    "    num_items = 48,\n",
    "    data = TSP_48,\n",
    "    objective_function=\"TSP\",\n",
    "    timer = None,\n",
    "    bias_factor=2,\n",
    "    max_iterations=1000,\n",
    "    print_logs = False\n",
    ")\n",
    "\n",
    "tsp48_solns = []\n",
    "for _ in range(25):\n",
    "    soln, cost, costs = ts48.solve()\n",
    "    tsp48_solns.append(cost)\n",
    "\n",
    "print(tsp48_solns)"
   ]
  },
  {
   "cell_type": "code",
   "execution_count": null,
   "metadata": {},
   "outputs": [],
   "source": [
    "sa48 = SimulatedAnnealing(\n",
    "    num_items = 48,\n",
    "    objective_function = \"tsp\",\n",
    "    data = TSP_48,\n",
    "    temp_iter = 50, temp = 1000,\n",
    "    t_stop = 0,\n",
    "    timer=None,\n",
    "    print_logs = False,\n",
    ")\n",
    "sa48_solns = []\n",
    "for _ in range(25):\n",
    "    soln, cost, costs = sa48.solve()\n",
    "    sa48_solns.append(cost)\n",
    "\n",
    "print(sa48_solns)"
   ]
  }
 ],
 "metadata": {
  "interpreter": {
   "hash": "37b9186e618a5ba4b51d7611469c71dbdc40d1371dc07dd49fbb1a0389f73634"
  },
  "kernelspec": {
   "display_name": "Python 3.9.7 64-bit ('env1': conda)",
   "language": "python",
   "name": "python3"
  },
  "language_info": {
   "codemirror_mode": {
    "name": "ipython",
    "version": 3
   },
   "file_extension": ".py",
   "mimetype": "text/x-python",
   "name": "python",
   "nbconvert_exporter": "python",
   "pygments_lexer": "ipython3",
   "version": "3.9.7"
  },
  "orig_nbformat": 4
 },
 "nbformat": 4,
 "nbformat_minor": 2
}
